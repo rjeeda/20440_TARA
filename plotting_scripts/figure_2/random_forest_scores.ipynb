{
 "cells": [
  {
   "cell_type": "code",
   "execution_count": 3,
   "id": "175e0b9a-010e-4a39-8bbb-1b47b8ec53c3",
   "metadata": {},
   "outputs": [],
   "source": [
    "# Set path to collect data files\n",
    "data_path = \"../data/clean/\"\n",
    "\n",
    "# Import necessary file\n",
    "taxonomy_file = os.path.join(data_path, \"taxonomic_profiles.csv\")\n",
    "relative_taxonomy_file = os.path.join(data_path, \"relative_taxonomies_with_metadata.csv\")\n",
    "taxa_df = pd.read_csv(taxonomy_file, header=[1])\n",
    "taxa_relative_df = pd.read_csv(relative_taxonomy_file)\n",
    "taxa_relative_df = taxa_relative_df.drop('label', axis=1)\n",
    "meta_df = taxa_relative_df.iloc[:, 35651:]\n",
    "meta_df = meta_df[meta_df['Environmental Feature'] != 'DCM/OMZ']"
   ]
  },
  {
   "cell_type": "code",
   "execution_count": 25,
   "id": "4bbee5d7-46fe-4957-90aa-60caa78aea0e",
   "metadata": {},
   "outputs": [],
   "source": [
    "phyla_score_file = os.path.join(data_path, \"phyla_model_scores.csv\")\n",
    "function_score_file = os.path.join(data_path, \"function_model_scores.csv\")\n",
    "OG_score_file = os.path.join(data_path, \"OG_model_scores.csv\")\n",
    "taxa_score_file = os.path.join(data_path, \"taxa_model_scores.csv\")\n",
    "phyla_score_df = pd.read_csv(phyla_score_file)\n",
    "function_score_df = pd.read_csv(function_score_file)\n",
    "OG_score_df = pd.read_csv(OG_score_file)\n",
    "taxa_score_df = pd.read_csv(taxa_score_file)\n",
    "score_df = pd.concat([phyla_score_df, function_score_df, OG_score_df, taxa_score_df], ignore_index=True)"
   ]
  },
  {
   "cell_type": "code",
   "execution_count": 67,
   "id": "e4be7b4d-eebb-4f09-aba9-940ccbf96fe1",
   "metadata": {},
   "outputs": [
    {
     "data": {
      "text/html": [
       "\n",
       "\n",
       "\n",
       "\n",
       "\n",
       "\n",
       "  <div class=\"bk-root\" id=\"cc26febc-bcb0-4b60-ba85-1b473f38c74b\" data-root-id=\"16706\"></div>\n"
      ]
     },
     "metadata": {},
     "output_type": "display_data"
    },
    {
     "data": {
      "application/javascript": [
       "(function(root) {\n",
       "  function embed_document(root) {\n",
       "    \n",
       "  var docs_json = {\"a74944ca-9d53-46c1-8075-2737592b6953\":{\"defs\":[{\"extends\":null,\"module\":null,\"name\":\"ReactiveHTML1\",\"overrides\":[],\"properties\":[]},{\"extends\":null,\"module\":null,\"name\":\"FlexBox1\",\"overrides\":[],\"properties\":[{\"default\":\"flex-start\",\"kind\":null,\"name\":\"align_content\"},{\"default\":\"flex-start\",\"kind\":null,\"name\":\"align_items\"},{\"default\":\"row\",\"kind\":null,\"name\":\"flex_direction\"},{\"default\":\"wrap\",\"kind\":null,\"name\":\"flex_wrap\"},{\"default\":\"flex-start\",\"kind\":null,\"name\":\"justify_content\"}]},{\"extends\":null,\"module\":null,\"name\":\"TemplateActions1\",\"overrides\":[],\"properties\":[{\"default\":0,\"kind\":null,\"name\":\"open_modal\"},{\"default\":0,\"kind\":null,\"name\":\"close_modal\"}]},{\"extends\":null,\"module\":null,\"name\":\"MaterialTemplateActions1\",\"overrides\":[],\"properties\":[{\"default\":0,\"kind\":null,\"name\":\"open_modal\"},{\"default\":0,\"kind\":null,\"name\":\"close_modal\"}]}],\"roots\":{\"references\":[{\"attributes\":{\"below\":[{\"id\":\"16715\"}],\"center\":[{\"id\":\"16717\"},{\"id\":\"16720\"}],\"frame_height\":200,\"frame_width\":800,\"left\":[{\"id\":\"16718\"}],\"renderers\":[{\"id\":\"16741\"},{\"id\":\"16746\"}],\"right\":[{\"id\":\"16737\"}],\"title\":{\"id\":\"17410\"},\"toolbar\":{\"id\":\"16728\"},\"x_range\":{\"id\":\"16707\"},\"x_scale\":{\"id\":\"16711\"},\"y_range\":{\"id\":\"16709\"},\"y_scale\":{\"id\":\"16713\"}},\"id\":\"16706\",\"subtype\":\"Figure\",\"type\":\"Plot\"},{\"attributes\":{},\"id\":\"17419\",\"type\":\"Selection\"},{\"attributes\":{},\"id\":\"17420\",\"type\":\"UnionRenderers\"},{\"attributes\":{\"active_multi\":null,\"tools\":[{\"id\":\"16721\"},{\"id\":\"16722\"},{\"id\":\"16723\"},{\"id\":\"16724\"},{\"id\":\"16725\"},{\"id\":\"16726\"}]},\"id\":\"16728\",\"type\":\"Toolbar\"},{\"attributes\":{},\"id\":\"16713\",\"type\":\"CategoricalScale\"},{\"attributes\":{},\"id\":\"16711\",\"type\":\"CategoricalScale\"},{\"attributes\":{\"data_source\":{\"id\":\"16705\"},\"glyph\":{\"id\":\"16739\"},\"hover_glyph\":null,\"muted_glyph\":null,\"nonselection_glyph\":{\"id\":\"16740\"},\"view\":{\"id\":\"16742\"}},\"id\":\"16741\",\"type\":\"GlyphRenderer\"},{\"attributes\":{},\"id\":\"16724\",\"type\":\"SaveTool\"},{\"attributes\":{\"fill_alpha\":{\"value\":0.1},\"fill_color\":{\"field\":\"Score\",\"transform\":{\"id\":\"16735\"}},\"line_alpha\":{\"value\":0.1},\"line_color\":{\"field\":\"Score\",\"transform\":{\"id\":\"16735\"}},\"size\":{\"field\":\"Scale\"},\"x\":{\"field\":\"Model\"},\"y\":{\"field\":\"Data\"}},\"id\":\"16745\",\"type\":\"Scatter\"},{\"attributes\":{},\"id\":\"16716\",\"type\":\"CategoricalTicker\"},{\"attributes\":{},\"id\":\"16736\",\"type\":\"BasicTicker\"},{\"attributes\":{},\"id\":\"16726\",\"type\":\"HelpTool\"},{\"attributes\":{\"high\":0.9089984389845785,\"low\":0.1,\"palette\":[\"#440154\",\"#440255\",\"#440357\",\"#450558\",\"#45065A\",\"#45085B\",\"#46095C\",\"#460B5E\",\"#460C5F\",\"#460E61\",\"#470F62\",\"#471163\",\"#471265\",\"#471466\",\"#471567\",\"#471669\",\"#47186A\",\"#48196B\",\"#481A6C\",\"#481C6E\",\"#481D6F\",\"#481E70\",\"#482071\",\"#482172\",\"#482273\",\"#482374\",\"#472575\",\"#472676\",\"#472777\",\"#472878\",\"#472A79\",\"#472B7A\",\"#472C7B\",\"#462D7C\",\"#462F7C\",\"#46307D\",\"#46317E\",\"#45327F\",\"#45347F\",\"#453580\",\"#453681\",\"#443781\",\"#443982\",\"#433A83\",\"#433B83\",\"#433C84\",\"#423D84\",\"#423E85\",\"#424085\",\"#414186\",\"#414286\",\"#404387\",\"#404487\",\"#3F4587\",\"#3F4788\",\"#3E4888\",\"#3E4989\",\"#3D4A89\",\"#3D4B89\",\"#3D4C89\",\"#3C4D8A\",\"#3C4E8A\",\"#3B508A\",\"#3B518A\",\"#3A528B\",\"#3A538B\",\"#39548B\",\"#39558B\",\"#38568B\",\"#38578C\",\"#37588C\",\"#37598C\",\"#365A8C\",\"#365B8C\",\"#355C8C\",\"#355D8C\",\"#345E8D\",\"#345F8D\",\"#33608D\",\"#33618D\",\"#32628D\",\"#32638D\",\"#31648D\",\"#31658D\",\"#31668D\",\"#30678D\",\"#30688D\",\"#2F698D\",\"#2F6A8D\",\"#2E6B8E\",\"#2E6C8E\",\"#2E6D8E\",\"#2D6E8E\",\"#2D6F8E\",\"#2C708E\",\"#2C718E\",\"#2C728E\",\"#2B738E\",\"#2B748E\",\"#2A758E\",\"#2A768E\",\"#2A778E\",\"#29788E\",\"#29798E\",\"#287A8E\",\"#287A8E\",\"#287B8E\",\"#277C8E\",\"#277D8E\",\"#277E8E\",\"#267F8E\",\"#26808E\",\"#26818E\",\"#25828E\",\"#25838D\",\"#24848D\",\"#24858D\",\"#24868D\",\"#23878D\",\"#23888D\",\"#23898D\",\"#22898D\",\"#228A8D\",\"#228B8D\",\"#218C8D\",\"#218D8C\",\"#218E8C\",\"#208F8C\",\"#20908C\",\"#20918C\",\"#1F928C\",\"#1F938B\",\"#1F948B\",\"#1F958B\",\"#1F968B\",\"#1E978A\",\"#1E988A\",\"#1E998A\",\"#1E998A\",\"#1E9A89\",\"#1E9B89\",\"#1E9C89\",\"#1E9D88\",\"#1E9E88\",\"#1E9F88\",\"#1EA087\",\"#1FA187\",\"#1FA286\",\"#1FA386\",\"#20A485\",\"#20A585\",\"#21A685\",\"#21A784\",\"#22A784\",\"#23A883\",\"#23A982\",\"#24AA82\",\"#25AB81\",\"#26AC81\",\"#27AD80\",\"#28AE7F\",\"#29AF7F\",\"#2AB07E\",\"#2BB17D\",\"#2CB17D\",\"#2EB27C\",\"#2FB37B\",\"#30B47A\",\"#32B57A\",\"#33B679\",\"#35B778\",\"#36B877\",\"#38B976\",\"#39B976\",\"#3BBA75\",\"#3DBB74\",\"#3EBC73\",\"#40BD72\",\"#42BE71\",\"#44BE70\",\"#45BF6F\",\"#47C06E\",\"#49C16D\",\"#4BC26C\",\"#4DC26B\",\"#4FC369\",\"#51C468\",\"#53C567\",\"#55C666\",\"#57C665\",\"#59C764\",\"#5BC862\",\"#5EC961\",\"#60C960\",\"#62CA5F\",\"#64CB5D\",\"#67CC5C\",\"#69CC5B\",\"#6BCD59\",\"#6DCE58\",\"#70CE56\",\"#72CF55\",\"#74D054\",\"#77D052\",\"#79D151\",\"#7CD24F\",\"#7ED24E\",\"#81D34C\",\"#83D34B\",\"#86D449\",\"#88D547\",\"#8BD546\",\"#8DD644\",\"#90D643\",\"#92D741\",\"#95D73F\",\"#97D83E\",\"#9AD83C\",\"#9DD93A\",\"#9FD938\",\"#A2DA37\",\"#A5DA35\",\"#A7DB33\",\"#AADB32\",\"#ADDC30\",\"#AFDC2E\",\"#B2DD2C\",\"#B5DD2B\",\"#B7DD29\",\"#BADE27\",\"#BDDE26\",\"#BFDF24\",\"#C2DF22\",\"#C5DF21\",\"#C7E01F\",\"#CAE01E\",\"#CDE01D\",\"#CFE11C\",\"#D2E11B\",\"#D4E11A\",\"#D7E219\",\"#DAE218\",\"#DCE218\",\"#DFE318\",\"#E1E318\",\"#E4E318\",\"#E7E419\",\"#E9E419\",\"#ECE41A\",\"#EEE51B\",\"#F1E51C\",\"#F3E51E\",\"#F6E61F\",\"#F8E621\",\"#FAE622\",\"#FDE724\"]},\"id\":\"16735\",\"type\":\"LinearColorMapper\"},{\"attributes\":{},\"id\":\"17421\",\"type\":\"Selection\"},{\"attributes\":{\"axis\":{\"id\":\"16715\"},\"ticker\":null},\"id\":\"16717\",\"type\":\"Grid\"},{\"attributes\":{\"factors\":[\"Latitude\",\"Longitude\",\"Depth (m)\",\"Temperature (\\u00b0C)\",\"Salinity (PSU)\",\"Oxygen (\\u00b5mol/kg)\",\"Nitrates (\\u00b5mol/L)\",\"NO2 (\\u00b5mol/L)\",\"PO4 (\\u00b5mol/L)\",\"Environmental Feature\",\"Biome\",\"Region\"]},\"id\":\"16707\",\"type\":\"FactorRange\"},{\"attributes\":{},\"id\":\"17412\",\"type\":\"NoOverlap\"},{\"attributes\":{},\"id\":\"17422\",\"type\":\"UnionRenderers\"},{\"attributes\":{\"fill_color\":{\"field\":\"Score\",\"transform\":{\"id\":\"16735\"}},\"line_color\":{\"field\":\"Score\",\"transform\":{\"id\":\"16735\"}},\"size\":{\"field\":\"Scale\"},\"x\":{\"field\":\"Model\"},\"y\":{\"field\":\"Data\"}},\"id\":\"16744\",\"type\":\"Scatter\"},{\"attributes\":{\"fill_alpha\":{\"value\":0.5},\"fill_color\":{\"field\":\"Score\",\"transform\":{\"id\":\"16735\"}},\"line_alpha\":{\"value\":0.5},\"line_color\":{\"field\":\"Score\",\"transform\":{\"id\":\"16735\"}},\"size\":{\"field\":\"Scale\"},\"x\":{\"field\":\"Model\"},\"y\":{\"field\":\"Data\"}},\"id\":\"16739\",\"type\":\"Scatter\"},{\"attributes\":{\"color_mapper\":{\"id\":\"16735\"},\"location\":[0,0],\"major_label_policy\":{\"id\":\"17412\"},\"ticker\":{\"id\":\"16736\"},\"title\":\"Score\"},\"id\":\"16737\",\"type\":\"ColorBar\"},{\"attributes\":{},\"id\":\"16725\",\"type\":\"ResetTool\"},{\"attributes\":{\"data_source\":{\"id\":\"16704\"},\"glyph\":{\"id\":\"16744\"},\"hover_glyph\":null,\"muted_glyph\":null,\"nonselection_glyph\":{\"id\":\"16745\"},\"view\":{\"id\":\"16747\"}},\"id\":\"16746\",\"type\":\"GlyphRenderer\"},{\"attributes\":{\"axis\":{\"id\":\"16718\"},\"dimension\":1,\"ticker\":null},\"id\":\"16720\",\"type\":\"Grid\"},{\"attributes\":{\"fill_alpha\":{\"value\":0.1},\"fill_color\":{\"field\":\"Score\",\"transform\":{\"id\":\"16735\"}},\"line_alpha\":{\"value\":0.1},\"line_color\":{\"field\":\"Score\",\"transform\":{\"id\":\"16735\"}},\"size\":{\"field\":\"Scale\"},\"x\":{\"field\":\"Model\"},\"y\":{\"field\":\"Data\"}},\"id\":\"16740\",\"type\":\"Scatter\"},{\"attributes\":{\"overlay\":{\"id\":\"16727\"}},\"id\":\"16723\",\"type\":\"BoxZoomTool\"},{\"attributes\":{\"data\":{\"Data\":[\"Function\",\"OG\",\"Phyla\",\"Taxa\",\"Function\",\"OG\",\"Phyla\",\"Taxa\",\"Function\",\"OG\",\"Phyla\",\"Taxa\",\"Function\",\"OG\",\"Phyla\",\"Taxa\",\"Function\",\"OG\",\"Phyla\",\"Taxa\",\"Function\",\"OG\",\"Phyla\",\"Taxa\",\"Function\",\"OG\",\"Phyla\",\"Taxa\",\"Function\",\"OG\",\"Phyla\",\"Taxa\",\"Function\",\"OG\",\"Phyla\",\"Taxa\",\"Function\",\"OG\",\"Phyla\",\"Taxa\",\"Function\",\"OG\",\"Phyla\",\"Taxa\",\"Function\",\"OG\",\"Phyla\",\"Taxa\"],\"Model\":[\"Biome\",\"Biome\",\"Biome\",\"Biome\",\"Depth (m)\",\"Depth (m)\",\"Depth (m)\",\"Depth (m)\",\"Environmental Feature\",\"Environmental Feature\",\"Environmental Feature\",\"Environmental Feature\",\"Latitude\",\"Latitude\",\"Latitude\",\"Latitude\",\"Longitude\",\"Longitude\",\"Longitude\",\"Longitude\",\"NO2 (\\u00b5mol/L)\",\"NO2 (\\u00b5mol/L)\",\"NO2 (\\u00b5mol/L)\",\"NO2 (\\u00b5mol/L)\",\"Nitrates (\\u00b5mol/L)\",\"Nitrates (\\u00b5mol/L)\",\"Nitrates (\\u00b5mol/L)\",\"Nitrates (\\u00b5mol/L)\",\"Oxygen (\\u00b5mol/kg)\",\"Oxygen (\\u00b5mol/kg)\",\"Oxygen (\\u00b5mol/kg)\",\"Oxygen (\\u00b5mol/kg)\",\"PO4 (\\u00b5mol/L)\",\"PO4 (\\u00b5mol/L)\",\"PO4 (\\u00b5mol/L)\",\"PO4 (\\u00b5mol/L)\",\"Region\",\"Region\",\"Region\",\"Region\",\"Salinity (PSU)\",\"Salinity (PSU)\",\"Salinity (PSU)\",\"Salinity (PSU)\",\"Temperature (\\u00b0C)\",\"Temperature (\\u00b0C)\",\"Temperature (\\u00b0C)\",\"Temperature (\\u00b0C)\"],\"Scale\":{\"__ndarray__\":\"4ziO4zgONEAAAAAAACA8QE5KgLsltzFA5xS8nIKXO0CobprWoVI5QGVEhxGSD0BANBcW1DgAQ0Ce7QckLqhEQDTEHqOf1ThATwQRLafSOkCmBLhbcrM2QDiO4ziOYz1AZd/qiTnD+z/6AKA98HkaQAySrX99tAFAd93+Pt7BIkDxHE9AMgT1P1IYEVJXKTtAwbpqjuDeHEANLRr5wi03QAEAAAAAAOA/AQAAAAAA4D8BAAAAAADgPwEAAAAAAOA/NKdDUTt1N0Cji4/Ftug4QHNWGyv/IS5AaZMD5se9PUCx+F8rngIcQFpeZpCv6DNAHoY7uPuYMkBWBVYH+Bo6QHw1cdTmpBpABGmMj7lAOUAmBWB0JqowQPRfcf5LFDdAvZyCl1PwK0C7k/pkhLw8QGFOwcspeC1AeDkFL6cAOECL0iWey0/uPwivfpTzSRlAr3+saXVS/T8lcI0D8NshQIjriVbwIzxABb4AJ4ZPPUBKnjr91G86QNTZqBj5nkNA\",\"dtype\":\"float64\",\"order\":\"little\",\"shape\":[48]},\"Score\":{\"__ndarray__\":\"RERERERE5D8AAAAAAADoP8MwDMMwDOM/WHzFV3zF5z//zxLV5MXmPzqLE24Lpuk/+PRLcsjl6z/duPHkgxbtP9ZojdZojeY/Anf6IxZw5z/+2I/92I/lP4iIiIiIiOg/7VcznUnYxz8D26J3M0nXP56gk0f07co/ehESTdy32z/8U3spGL/EP6oiwHzXlec/V6/ff+hQ2D/MgT5IosnlP5qZmZmZmbk/mpmZmZmZuT+amZmZmZm5P5qZmZmZmbk/hA4Qqx/r5T9NELMyEpbmPzgp/wHdkOE/nW0WkhSu6D8CGp1nc/PXP/WgQB9EMeQ/avl1+R+E4z/duwpzSh/nP4ptw3UQXNc/YmpwENa95j9GBHr9XXniP4W6sh+nveU/oQ7qoA7q4D8nBGXva0LoP/IVX/EVX+E/vuIrvuIr5j+WBXFTMZ7BP9SGlz/9wdY/4SDwpmSByD/S+HGa4wvbP/grWCquAeg/1xDosSqA6D+msFhMwUTnPyjPKH1jWew/\",\"dtype\":\"float64\",\"order\":\"little\",\"shape\":[48]},\"index\":[0,1,2,3,4,5,6,7,8,9,10,11,12,13,14,15,16,17,18,19,20,21,22,23,24,25,26,27,28,29,30,31,32,33,34,35,36,37,38,39,40,41,42,43,44,45,46,47]},\"selected\":{\"id\":\"17421\"},\"selection_policy\":{\"id\":\"17422\"}},\"id\":\"16704\",\"type\":\"ColumnDataSource\"},{\"attributes\":{},\"id\":\"16719\",\"type\":\"CategoricalTicker\"},{\"attributes\":{\"source\":{\"id\":\"16705\"}},\"id\":\"16742\",\"type\":\"CDSView\"},{\"attributes\":{\"bottom_units\":\"screen\",\"fill_alpha\":0.5,\"fill_color\":\"lightgrey\",\"left_units\":\"screen\",\"level\":\"overlay\",\"line_alpha\":1.0,\"line_color\":\"black\",\"line_dash\":[4,4],\"line_width\":2,\"right_units\":\"screen\",\"syncable\":false,\"top_units\":\"screen\"},\"id\":\"16727\",\"type\":\"BoxAnnotation\"},{\"attributes\":{\"factors\":[\"Function\",\"Phyla\",\"OG\",\"Taxa\"]},\"id\":\"16709\",\"type\":\"FactorRange\"},{\"attributes\":{},\"id\":\"16721\",\"type\":\"PanTool\"},{\"attributes\":{},\"id\":\"17410\",\"type\":\"Title\"},{\"attributes\":{\"source\":{\"id\":\"16704\"}},\"id\":\"16747\",\"type\":\"CDSView\"},{\"attributes\":{},\"id\":\"17413\",\"type\":\"AllLabels\"},{\"attributes\":{},\"id\":\"16722\",\"type\":\"WheelZoomTool\"},{\"attributes\":{},\"id\":\"17414\",\"type\":\"CategoricalTickFormatter\"},{\"attributes\":{},\"id\":\"17416\",\"type\":\"AllLabels\"},{\"attributes\":{\"formatter\":{\"id\":\"17417\"},\"major_label_policy\":{\"id\":\"17416\"},\"ticker\":{\"id\":\"16719\"}},\"id\":\"16718\",\"type\":\"CategoricalAxis\"},{\"attributes\":{},\"id\":\"17417\",\"type\":\"CategoricalTickFormatter\"},{\"attributes\":{\"formatter\":{\"id\":\"17414\"},\"major_label_orientation\":0.7853981633974483,\"major_label_policy\":{\"id\":\"17413\"},\"ticker\":{\"id\":\"16716\"}},\"id\":\"16715\",\"type\":\"CategoricalAxis\"},{\"attributes\":{\"data\":{\"Data\":[\"Function\",\"OG\",\"Phyla\",\"Taxa\",\"Function\",\"OG\",\"Phyla\",\"Taxa\",\"Function\",\"OG\",\"Phyla\",\"Taxa\",\"Function\",\"OG\",\"Phyla\",\"Taxa\",\"Function\",\"OG\",\"Phyla\",\"Taxa\",\"Function\",\"OG\",\"Phyla\",\"Taxa\",\"Function\",\"OG\",\"Phyla\",\"Taxa\",\"Function\",\"OG\",\"Phyla\",\"Taxa\",\"Function\",\"OG\",\"Phyla\",\"Taxa\",\"Function\",\"OG\",\"Phyla\",\"Taxa\",\"Function\",\"OG\",\"Phyla\",\"Taxa\",\"Function\",\"OG\",\"Phyla\",\"Taxa\"],\"Model\":[\"Biome\",\"Biome\",\"Biome\",\"Biome\",\"Depth (m)\",\"Depth (m)\",\"Depth (m)\",\"Depth (m)\",\"Environmental Feature\",\"Environmental Feature\",\"Environmental Feature\",\"Environmental Feature\",\"Latitude\",\"Latitude\",\"Latitude\",\"Latitude\",\"Longitude\",\"Longitude\",\"Longitude\",\"Longitude\",\"NO2 (\\u00b5mol/L)\",\"NO2 (\\u00b5mol/L)\",\"NO2 (\\u00b5mol/L)\",\"NO2 (\\u00b5mol/L)\",\"Nitrates (\\u00b5mol/L)\",\"Nitrates (\\u00b5mol/L)\",\"Nitrates (\\u00b5mol/L)\",\"Nitrates (\\u00b5mol/L)\",\"Oxygen (\\u00b5mol/kg)\",\"Oxygen (\\u00b5mol/kg)\",\"Oxygen (\\u00b5mol/kg)\",\"Oxygen (\\u00b5mol/kg)\",\"PO4 (\\u00b5mol/L)\",\"PO4 (\\u00b5mol/L)\",\"PO4 (\\u00b5mol/L)\",\"PO4 (\\u00b5mol/L)\",\"Region\",\"Region\",\"Region\",\"Region\",\"Salinity (PSU)\",\"Salinity (PSU)\",\"Salinity (PSU)\",\"Salinity (PSU)\",\"Temperature (\\u00b0C)\",\"Temperature (\\u00b0C)\",\"Temperature (\\u00b0C)\",\"Temperature (\\u00b0C)\"],\"Scale\":{\"__ndarray__\":\"hgIHu9NsOkBViCInE8BAQKh+cbA9TTdAOyH0nrdoQUBt0E7AzRdAQPdbSqVLEkRAGXgXQlCYRUC3TNzuffZGQICkWcg7xT9A9U9eo1dHQECY1d2UYr09QDdkzW9xhkFAmxKAqMFcJUCkelnB9kYrQLm5PHMBryVAIERufY+XL0DVucrsSJojQCmXzt1gIEBAsEY4vffuKUDBn1KwyNQ9QL1QGl9IKjdAAoNjVgVnLkCT2qU/br0+QHu8duMMTzFAOhn3y7rLPkBfJo7jVu4/QKivPWwiAj5AR7ECV9c9QkDk7jUTV5oxQI7vDSnrOjtAgOar9n1hOkCu90hTDaRBQLhlzkaUYThAU0FmMbDgP0CSdFO/XNM6QNSshMBSDz5AufgsLKRyNUCSXKxdWhJBQIw3peRrfDVAbEdf1EapPkCD/RHCmbEkQLyN0WcykypANfjHmpweJUBI41y10VEwQN/7VqN6C0FAAm9pn8AQQkAkBmlIx6pAQK+bmXq0U0ZA\",\"dtype\":\"float64\",\"order\":\"little\",\"shape\":[48]},\"Score\":{\"__ndarray__\":\"RaCiMS73uT+a+qQyeH6yP/O5+Evr+LM/KGTkaca1wD8BnBmzZyW+P1Jug/nRlsQ/JJ+P7Sw6sT9lpIOYWzmrP2qeXgf6yb4/jHkQ0coLtT8TWOxpdLW/P/YNFwJmg7Q/tuTw9yKcyT86Rpmg/4i/P5uovUpH08c/J7Ro4ltbuj9wKQygwg3HP3SMjCU7l7A/uC0+NjontT/z1/ZttlK8P2RMu2FjjPQ/0cN720BK4T+UvQ35AkoCQDEO3mFTmuY/acSDefE6wT+oOcGppI6/P8jjnUll3OE/twA2AtcWvT+VpvNjjvrRP1pIyYvvJsE/xy9uLZ1iwz/hn8KkC/LKP3AzF3TIHuk/LAJbzboWvD/FOMSv8ITQP/88TIuoL78/FFCIXYjlwT+KkoFb8rWyP5UY6njlK70/Ar8IrFpgvD//reLS40XMP0lP21S1DL8/eeeYiktfyD/Ri9ZV33nBP+Bt2in4prY/9UcOZx/FvT9ogJcMdnK+P25kI5bGvrI/\",\"dtype\":\"float64\",\"order\":\"little\",\"shape\":[48]},\"index\":[0,1,2,3,4,5,6,7,8,9,10,11,12,13,14,15,16,17,18,19,20,21,22,23,24,25,26,27,28,29,30,31,32,33,34,35,36,37,38,39,40,41,42,43,44,45,46,47]},\"selected\":{\"id\":\"17419\"},\"selection_policy\":{\"id\":\"17420\"}},\"id\":\"16705\",\"type\":\"ColumnDataSource\"}],\"root_ids\":[\"16706\"]},\"title\":\"Bokeh Application\",\"version\":\"2.3.3\"}};\n",
       "  var render_items = [{\"docid\":\"a74944ca-9d53-46c1-8075-2737592b6953\",\"root_ids\":[\"16706\"],\"roots\":{\"16706\":\"cc26febc-bcb0-4b60-ba85-1b473f38c74b\"}}];\n",
       "  root.Bokeh.embed.embed_items_notebook(docs_json, render_items);\n",
       "\n",
       "  }\n",
       "  if (root.Bokeh !== undefined) {\n",
       "    embed_document(root);\n",
       "  } else {\n",
       "    var attempts = 0;\n",
       "    var timer = setInterval(function(root) {\n",
       "      if (root.Bokeh !== undefined) {\n",
       "        clearInterval(timer);\n",
       "        embed_document(root);\n",
       "      } else {\n",
       "        attempts++;\n",
       "        if (attempts > 100) {\n",
       "          clearInterval(timer);\n",
       "          console.log(\"Bokeh: ERROR: Unable to run BokehJS code because BokehJS library is missing\");\n",
       "        }\n",
       "      }\n",
       "    }, 10, root)\n",
       "  }\n",
       "})(window);"
      ],
      "application/vnd.bokehjs_exec.v0+json": ""
     },
     "metadata": {
      "application/vnd.bokehjs_exec.v0+json": {
       "id": "16706"
      }
     },
     "output_type": "display_data"
    }
   ],
   "source": [
    "models = ['Taxa', 'OG', 'Phyla', 'Function'][::-1]\n",
    "variables = ['Latitude', 'Longitude', 'Depth (m)', 'Temperature (°C)', 'Salinity (PSU)',\n",
    "       'Oxygen (µmol/kg)', 'Nitrates (µmol/L)', 'NO2 (µmol/L)',\n",
    "       'PO4 (µmol/L)', 'Environmental Feature', 'Biome', 'Region']\n",
    "scale = 50\n",
    "mean_score_df = score_df.groupby(['Model', 'Data']).mean().reset_index()\n",
    "mean_score_df['Score'] = mean_score_df['Score'].where(mean_score_df['Score'] >= 0, 0.1)\n",
    "mean_score_df['Scale'] = mean_score_df['Score']**2*scale\n",
    "mean_source = bokeh.models.ColumnDataSource(mean_score_df)\n",
    "std_score_df = score_df.groupby(['Model', 'Data']).std().reset_index()\n",
    "std_score_df = std_score_df.groupby(['Model', 'Data']).mean().reset_index()\n",
    "std_score_df['Scale'] = mean_score_df['Scale'] + np.sqrt(std_score_df['Score'])*20\n",
    "std_source = bokeh.models.ColumnDataSource(std_score_df)\n",
    "\n",
    "p = bokeh.plotting.figure(frame_height=200, frame_width=800, x_range=variables, y_range=models)\n",
    "color_mapper = bokeh.models.LinearColorMapper(palette=bokeh.palettes.Viridis256, low=mean_score_df['Score'].min(), high=mean_score_df['Score'].max())\n",
    "color_bar = bokeh.models.ColorBar(color_mapper=color_mapper, location = (0, 0), ticker=bokeh.models.BasicTicker(), title='Score')\n",
    "p.add_layout(color_bar, 'right')\n",
    "p.scatter(x='Model', y='Data', size='Scale', color=bokeh.transform.transform('Score', color_mapper), source=std_source, alpha=0.5)\n",
    "p.scatter(x='Model', y='Data', size='Scale', color=bokeh.transform.transform('Score', color_mapper), source=mean_source)\n",
    "p.xaxis.major_label_orientation = np.pi/4\n",
    "bokeh.io.show(p)"
   ]
  },
  {
   "cell_type": "code",
   "execution_count": 57,
   "id": "685bf48b-67dc-452a-8972-6ac425417f6c",
   "metadata": {},
   "outputs": [
    {
     "data": {
      "text/plain": [
       "['../plots/scores.svg']"
      ]
     },
     "execution_count": 57,
     "metadata": {},
     "output_type": "execute_result"
    }
   ],
   "source": [
    "# Set path to export plot\n",
    "data_path = \"../plots/\"\n",
    "p.output_backend = \"svg\"\n",
    "plot_file = os.path.join(data_path, \"scores.svg\")\n",
    "bokeh.io.export_svg(p, filename=plot_file)"
   ]
  }
 ],
 "metadata": {
  "kernelspec": {
   "display_name": "Python 3 (ipykernel)",
   "language": "python",
   "name": "python3"
  },
  "language_info": {
   "codemirror_mode": {
    "name": "ipython",
    "version": 3
   },
   "file_extension": ".py",
   "mimetype": "text/x-python",
   "name": "python",
   "nbconvert_exporter": "python",
   "pygments_lexer": "ipython3",
   "version": "3.8.11"
  }
 },
 "nbformat": 4,
 "nbformat_minor": 5
}

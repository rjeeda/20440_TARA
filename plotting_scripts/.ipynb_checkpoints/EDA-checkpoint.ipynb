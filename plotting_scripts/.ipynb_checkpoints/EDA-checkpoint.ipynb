{
 "cells": [
  {
   "cell_type": "code",
   "execution_count": null,
   "id": "3706e149-2e13-4fe3-abb2-c6a63ecc7621",
   "metadata": {},
   "outputs": [],
   "source": [
    "import os\n",
    "\n",
    "import bokeh\n",
    "import bokeh.plotting\n",
    "import numpy as np\n",
    "import pandas as pd\n",
    "\n",
    "bokeh.io.output_notebook()"
   ]
  },
  {
   "cell_type": "code",
   "execution_count": null,
   "id": "19b40a8e-1f84-40b6-bce2-f2b48f2ebd32",
   "metadata": {},
   "outputs": [],
   "source": [
    "data_path = \"../data/clean/\"\n",
    "\n",
    "taxonomy_file = os.path.join(data_path, \"taxonomic_profiles.csv\")\n",
    "metadata_file = os.path.join(data_path, \"companion_table_W1.csv\")\n",
    "nutrient_file = os.path.join(data_path, \"nutrient_temp_table.csv\")"
   ]
  },
  {
   "cell_type": "code",
   "execution_count": null,
   "id": "ef258fa7-7576-4fcd-855d-665038274ab8",
   "metadata": {},
   "outputs": [],
   "source": [
    "taxa_df = pd.read_csv(taxonomy_file, header=[1])\n",
    "meta_df = pd.read_csv(metadata_file)\n",
    "cond_df = pd.read_csv(nutrient_file)"
   ]
  },
  {
   "cell_type": "code",
   "execution_count": null,
   "id": "7b709044-8847-4aa7-904f-67c27ab6eb5f",
   "metadata": {},
   "outputs": [],
   "source": [
    "total_sums = taxa_df.iloc[:,7:].sum()"
   ]
  },
  {
   "cell_type": "code",
   "execution_count": null,
   "id": "f08f07a1-86e7-4fbb-8c71-4077aab1da45",
   "metadata": {},
   "outputs": [],
   "source": [
    "cyanobacteria_sums = taxa_df.loc[taxa_df[\"Phylum\"] == \"Cyanobacteria\"].iloc[:,7:].sum()"
   ]
  },
  {
   "cell_type": "code",
   "execution_count": null,
   "id": "20a0ea5c-cd9b-4fc4-818f-254f16bde63a",
   "metadata": {},
   "outputs": [],
   "source": [
    "cyano_df = pd.DataFrame(100*cyanobacteria_sums/total_sums, columns=[\"percent_cyano\"])\n",
    "cyano_df[\"label\"] = cyano_df.index\n",
    "cyano_df"
   ]
  },
  {
   "cell_type": "code",
   "execution_count": null,
   "id": "38f6f47b-1127-4a81-862a-91670144c039",
   "metadata": {},
   "outputs": [],
   "source": [
    "id_df = meta_df.iloc[:,[0, 4, 15]]\n",
    "id_df = id_df.rename(columns={\"Sample label [TARA_station#_environmental-feature_size-fraction]\": \"label\", \n",
    "                              \"PANGAEA sample identifier\": \"pangea_id\",\n",
    "                              \"Ocean and sea regions (IHO General Sea Areas 1953) [MRGID registered at www.marineregions.com]\":\"loc\"})\n",
    "id_df"
   ]
  },
  {
   "cell_type": "code",
   "execution_count": null,
   "id": "cc27368b-b6e2-427a-882e-595641abc52a",
   "metadata": {},
   "outputs": [],
   "source": [
    "temp_df = cond_df.iloc[:,[0, 5]]\n",
    "temp_df = temp_df.rename(columns={\"PANGAEA Sample ID\": \"pangea_id\", \n",
    "                              \"Mean_Temperature [deg C]*\": \"temp_C\"})\n",
    "temp_df"
   ]
  },
  {
   "cell_type": "code",
   "execution_count": null,
   "id": "48264b7c-4333-42dd-8c4b-13da0f2fffd8",
   "metadata": {},
   "outputs": [],
   "source": [
    "cyano_temp_df = id_df.merge(temp_df, how=\"left\", on=\"pangea_id\").merge(cyano_df, how=\"left\", on=\"label\")"
   ]
  },
  {
   "cell_type": "code",
   "execution_count": null,
   "id": "800b564a-9324-4bb1-ae5c-47c8096b6702",
   "metadata": {},
   "outputs": [],
   "source": [
    "cyano_temp_df"
   ]
  },
  {
   "cell_type": "code",
   "execution_count": null,
   "id": "d151dffb-8c30-43fe-8ca0-25a79d8178d0",
   "metadata": {},
   "outputs": [],
   "source": [
    "color_dict = {}\n",
    "colors = bokeh.palettes.Dark2[8]\n",
    "for idx, loc in enumerate(np.unique(locs)):\n",
    "    color_dict[loc] = colors[idx]"
   ]
  },
  {
   "cell_type": "code",
   "execution_count": null,
   "id": "b6ed935e-31ba-4f5e-a9c6-e4db3cf0b930",
   "metadata": {},
   "outputs": [],
   "source": [
    "color_dict"
   ]
  },
  {
   "cell_type": "code",
   "execution_count": null,
   "id": "a28570e5-8930-41c3-adea-1adc41838222",
   "metadata": {},
   "outputs": [],
   "source": [
    "p = bokeh.plotting.figure(width=900, height=500)\n",
    "\n",
    "temps = np.array(cyano_temp_df[\"temp_C\"])[:242]\n",
    "cyano = np.nan_to_num(np.array(cyano_temp_df[\"percent_cyano\"])[:242])\n",
    "locs = np.array(cyano_temp_df[\"loc\"])[:242]\n",
    "\n",
    "\n",
    "for idx in range(len(temps)):\n",
    "    p.circle(temps[idx], cyano[idx], legend_label = locs[idx], color=color_dict[locs[idx]], size=5)\n",
    "\n",
    "p.add_layout(p.legend[0], 'right')\n",
    "p.xaxis.axis_label = \"temperature (C)\"\n",
    "p.yaxis.axis_label = \"% cyanobacteria\"\n",
    "p.title = \"% cyanobactera vs. temperature for various ocean sites\"\n",
    "p.legend.click_policy=\"hide\"\n",
    "\n",
    "bokeh.io.show(p)"
   ]
  },
  {
   "cell_type": "code",
   "execution_count": null,
   "id": "61953f33-4eb7-4d3d-bdc2-16c9e5cff692",
   "metadata": {},
   "outputs": [],
   "source": []
  }
 ],
 "metadata": {
  "kernelspec": {
   "display_name": "Python 3 (ipykernel)",
   "language": "python",
   "name": "python3"
  },
  "language_info": {
   "codemirror_mode": {
    "name": "ipython",
    "version": 3
   },
   "file_extension": ".py",
   "mimetype": "text/x-python",
   "name": "python",
   "nbconvert_exporter": "python",
   "pygments_lexer": "ipython3",
   "version": "3.8.11"
  }
 },
 "nbformat": 4,
 "nbformat_minor": 5
}
